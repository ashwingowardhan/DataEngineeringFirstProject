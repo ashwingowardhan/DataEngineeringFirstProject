{
 "cells": [
  {
   "cell_type": "code",
   "execution_count": 3,
   "id": "5db379f2",
   "metadata": {},
   "outputs": [
    {
     "name": "stdout",
     "output_type": "stream",
     "text": [
      "Requirement already satisfied: psycopg2 in c:\\python311\\lib\\site-packages (2.9.6)"
     ]
    },
    {
     "name": "stderr",
     "output_type": "stream",
     "text": [
      "\n",
      "[notice] A new release of pip is available: 23.0.1 -> 23.1.2\n",
      "[notice] To update, run: python.exe -m pip install --upgrade pip\n"
     ]
    },
    {
     "name": "stdout",
     "output_type": "stream",
     "text": [
      "\n"
     ]
    }
   ],
   "source": [
    "!pip install psycopg2"
   ]
  },
  {
   "cell_type": "markdown",
   "id": "601fb1d6",
   "metadata": {},
   "source": [
    "# Import the library"
   ]
  },
  {
   "cell_type": "code",
   "execution_count": 4,
   "id": "f8a4d292",
   "metadata": {},
   "outputs": [],
   "source": [
    "import psycopg2"
   ]
  },
  {
   "cell_type": "markdown",
   "id": "eaafb96e",
   "metadata": {},
   "source": [
    "## Create connection to the database"
   ]
  },
  {
   "cell_type": "code",
   "execution_count": 21,
   "id": "6419f8b7",
   "metadata": {},
   "outputs": [
    {
     "name": "stdout",
     "output_type": "stream",
     "text": [
      "connection sucessful <connection object at 0x0000018F51DA3AB0; dsn: 'user=postgres password=xxx dbname=postgres host=localhost port=5432', closed: 0>\n"
     ]
    }
   ],
   "source": [
    "try:\n",
    "    conn = psycopg2.connect(\"dbname=postgres user=postgres password=root port=5432 host=localhost\")\n",
    "#     conn = psycopg2.connect(database=\"postgres\", user=\"postgres\", password=\"root\", port=\"5432\", host=\"localhost\")\n",
    "    print(\"connection successful\",conn)\n",
    "except psycopg2.Error as e:\n",
    "    print(\"Error Could not make connection to the postgres database\")\n",
    "    print(e)"
   ]
  },
  {
   "cell_type": "markdown",
   "id": "c47dd727",
   "metadata": {},
   "source": [
    "# # use the connection to get a cursor that can be used to execute queries."
   ]
  },
  {
   "cell_type": "code",
   "execution_count": 22,
   "id": "374b2c48",
   "metadata": {},
   "outputs": [
    {
     "name": "stdout",
     "output_type": "stream",
     "text": [
      "cursor ready:- <cursor object at 0x0000018F5230D7E0; closed: 0>\n"
     ]
    }
   ],
   "source": [
    "try:\n",
    "    cursor = conn.cursor()\n",
    "    print(\"cursor ready:-\",cursor)\n",
    "except psycopg2.Error as e:\n",
    "    print(\"Could not get cursor to the database\")\n",
    "    print(e);"
   ]
  },
  {
   "cell_type": "markdown",
   "id": "69dd93f1",
   "metadata": {},
   "source": [
    "# # set automatic commit to be true so that each action is committed without having to call conn.commit() after each command."
   ]
  },
  {
   "cell_type": "code",
   "execution_count": 23,
   "id": "6ac39f56",
   "metadata": {},
   "outputs": [],
   "source": [
    "conn.set_session(autocommit=True);"
   ]
  },
  {
   "cell_type": "markdown",
   "id": "812e07b3",
   "metadata": {},
   "source": [
    "# Create a database to do the work in"
   ]
  },
  {
   "cell_type": "code",
   "execution_count": 25,
   "id": "563e334c",
   "metadata": {},
   "outputs": [
    {
     "name": "stdout",
     "output_type": "stream",
     "text": [
      "Error database \"myfirstdb\" already exists\n",
      "\n"
     ]
    }
   ],
   "source": [
    "try:\n",
    "    db = cursor.execute(\"CREATE DATABASE myfirstdb\");\n",
    "    print(\"database:-\",db)\n",
    "except psycopg2.Error as e:\n",
    "    print(\"Error\",e)"
   ]
  },
  {
   "cell_type": "markdown",
   "id": "93530998",
   "metadata": {},
   "source": [
    "# Add the database name in the connect statement. Let's close our connection to the default database, reconnect to the new database, and get  new cursor."
   ]
  },
  {
   "cell_type": "code",
   "execution_count": 6,
   "id": "04c9c349",
   "metadata": {},
   "outputs": [
    {
     "name": "stdout",
     "output_type": "stream",
     "text": [
      "connection successful! <connection object at 0x0000015F935D1470; dsn: 'user=postgres password=xxx dbname=myfirstdb host=localhost port=5432', closed: 0>\n",
      "cursor:- <cursor object at 0x0000015F93B5DD20; closed: 0>\n"
     ]
    }
   ],
   "source": [
    "# close connection to the \"postgres\" database \n",
    "# try:\n",
    "#     conn.close()\n",
    "# except psycopg2.Error as e:\n",
    "#     print(e)\n",
    "\n",
    "# connect to the newly created database \"myfirstdb\"\n",
    "try:\n",
    "    conn = psycopg2.connect(\"dbname=myfirstdb user=postgres password=root port=5432 host=localhost\")\n",
    "    print(\"connection successful!\",conn)\n",
    "except psycopg2.Error as e:\n",
    "    print(\"Error occured!\")\n",
    "    print(e)\n",
    "\n",
    "# use cursor to execute queries\n",
    "try:\n",
    "    cur = conn.cursor()\n",
    "    print(\"cursor:-\",cur)\n",
    "except psycopg2.Error as e:\n",
    "    print(\"Error occured not able to get cursor\",e)\n",
    "    \n",
    "# set connection to autocommit to true \n",
    "conn.set_session(autocommit=True)"
   ]
  },
  {
   "cell_type": "markdown",
   "id": "6bc3fcb9",
   "metadata": {},
   "source": [
    "## Create Table for students which includes below columns"
   ]
  },
  {
   "cell_type": "raw",
   "id": "fe57ec95",
   "metadata": {},
   "source": [
    "student_id\n",
    "name\n",
    "age\n",
    "gender\n",
    "subject\n",
    "marks"
   ]
  },
  {
   "cell_type": "code",
   "execution_count": 44,
   "id": "49359a8e",
   "metadata": {},
   "outputs": [
    {
     "name": "stdout",
     "output_type": "stream",
     "text": [
      "Table Created Successfully!\n"
     ]
    }
   ],
   "source": [
    "command = (\n",
    "    \"\"\"\n",
    "        CREATE TABLE IF NOT EXISTS students(\n",
    "            student_id INT,\n",
    "            name VARCHAR(40),\n",
    "            age INT,\n",
    "            subject VARCHAR(20),\n",
    "            gender VARCHAR(2),\n",
    "            marks INT\n",
    "        );\n",
    "    \"\"\"\n",
    ")\n",
    "try:\n",
    "    cur.execute(command)\n",
    "    print(\"Table Created Successfully!\")\n",
    "    \n",
    "except psycopg2.Error as e:\n",
    "    print(\"Error occured:-\",e)"
   ]
  },
  {
   "cell_type": "markdown",
   "id": "82d5466b",
   "metadata": {},
   "source": [
    "## Insert the following two rows in the table"
   ]
  },
  {
   "cell_type": "raw",
   "id": "0032e0aa",
   "metadata": {},
   "source": [
    "First Row:1 \"Raj\",23,\"M\",\"Python\",85\n",
    "Second Row:2 \"Priya\", 22,\"Female\",\"Python\",86"
   ]
  },
  {
   "cell_type": "code",
   "execution_count": 7,
   "id": "07c1acbd",
   "metadata": {},
   "outputs": [
    {
     "name": "stdout",
     "output_type": "stream",
     "text": [
      "values inserted!\n",
      "values inserted\n"
     ]
    }
   ],
   "source": [
    "try:\n",
    "    cur.execute(\"INSERT INTO students (student_id,name,age,gender,subject,marks) \\\n",
    "                 VALUES(%s, %s, %s, %s, %s, %s)\", \\\n",
    "                   (1,\"Raj\",23,\"M\",\"Python\",85));\n",
    "    print(\"values inserted!\")\n",
    "except pysycopg2.Error as e:\n",
    "    print(\"Error occured:-\",e);\n",
    "    \n",
    "try:\n",
    "    cur.execute(\"INSERT INTO students (student_id,name,age,gender,subject,marks) \\\n",
    "                 VALUES(%s, %s, %s, %s, %s, %s)\", \\\n",
    "                   (2,\"Priya\",22,\"F\",\"Python\",86));\n",
    "    print(\"values inserted\")\n",
    "except pysycopg2.Error as e:\n",
    "    print(\"Error occured:-\",e);"
   ]
  },
  {
   "cell_type": "markdown",
   "id": "f4709cc8",
   "metadata": {},
   "source": [
    "## Validate your data was inserted into the table. "
   ]
  },
  {
   "cell_type": "code",
   "execution_count": 9,
   "id": "998d8f0f",
   "metadata": {},
   "outputs": [
    {
     "name": "stdout",
     "output_type": "stream",
     "text": [
      "(1, 'Raj', 23, 'M', 85, 'Python')\n",
      "(2, 'Priya', 22, 'F', 86, 'Python')\n",
      "(1, 'Raj', 23, 'M', 85, 'Python')\n",
      "(2, 'Priya', 22, 'F', 86, 'Python')\n"
     ]
    }
   ],
   "source": [
    "try:\n",
    "    cur.execute(\"SELECT * FROM students;\")\n",
    "except psycopg2.Error as e:\n",
    "    print(\"Error occured:-\", e)\n",
    "    \n",
    "row =  cur.fetchone()\n",
    "while row :\n",
    "    print(row)\n",
    "    row =  cur.fetchone()"
   ]
  },
  {
   "cell_type": "markdown",
   "id": "0cd9f6da",
   "metadata": {},
   "source": [
    "## And finally close your cursor and connection."
   ]
  },
  {
   "cell_type": "code",
   "execution_count": 10,
   "id": "59e8c8ec",
   "metadata": {},
   "outputs": [],
   "source": [
    "cur.close()\n",
    "conn.close()"
   ]
  },
  {
   "cell_type": "code",
   "execution_count": null,
   "id": "37c79fef",
   "metadata": {},
   "outputs": [],
   "source": []
  }
 ],
 "metadata": {
  "kernelspec": {
   "display_name": "Python 3 (ipykernel)",
   "language": "python",
   "name": "python3"
  },
  "language_info": {
   "codemirror_mode": {
    "name": "ipython",
    "version": 3
   },
   "file_extension": ".py",
   "mimetype": "text/x-python",
   "name": "python",
   "nbconvert_exporter": "python",
   "pygments_lexer": "ipython3",
   "version": "3.11.0"
  }
 },
 "nbformat": 4,
 "nbformat_minor": 5
}
